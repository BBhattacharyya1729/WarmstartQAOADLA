{
 "cells": [
  {
   "cell_type": "code",
   "execution_count": 3,
   "id": "0c1f4778",
   "metadata": {},
   "outputs": [
    {
     "ename": "ModuleNotFoundError",
     "evalue": "No module named 'plots'",
     "output_type": "error",
     "traceback": [
      "\u001b[1;31m---------------------------------------------------------------------------\u001b[0m",
      "\u001b[1;31mModuleNotFoundError\u001b[0m                       Traceback (most recent call last)",
      "Cell \u001b[1;32mIn[3], line 3\u001b[0m\n\u001b[0;32m      1\u001b[0m \u001b[38;5;28;01mfrom\u001b[39;00m \u001b[38;5;21;01mQAOAUtils\u001b[39;00m \u001b[38;5;28;01mimport\u001b[39;00m \u001b[38;5;241m*\u001b[39m \n\u001b[0;32m      2\u001b[0m \u001b[38;5;28;01mfrom\u001b[39;00m \u001b[38;5;21;01mLieUtils\u001b[39;00m \u001b[38;5;28;01mimport\u001b[39;00m \u001b[38;5;241m*\u001b[39m\n\u001b[1;32m----> 3\u001b[0m \u001b[38;5;28;01mimport\u001b[39;00m \u001b[38;5;21;01mplots\u001b[39;00m\u001b[38;5;21;01m.\u001b[39;00m\u001b[38;5;21;01mtxt\u001b[39;00m\n",
      "\u001b[1;31mModuleNotFoundError\u001b[0m: No module named 'plots'"
     ]
    }
   ],
   "source": [
    "from QAOAUtils import * \n",
    "from LieUtils import *\n",
    "import plots.txt"
   ]
  },
  {
   "cell_type": "markdown",
   "id": "25a40b45",
   "metadata": {},
   "source": [
    "This notebook is meant as a review of QAOA/Warmstart utils plus an intro to the DLA functionality. We start by generating a 5-vertex (equivalently 5 qubit) adjacency matrix"
   ]
  },
  {
   "cell_type": "code",
   "execution_count": 2,
   "id": "186f569a",
   "metadata": {},
   "outputs": [
    {
     "data": {
      "text/plain": [
       "array([[0, 0, 1, 0, 0, 0, 0, 0],\n",
       "       [0, 0, 0, 0, 0, 1, 0, 1],\n",
       "       [1, 0, 0, 1, 0, 1, 0, 1],\n",
       "       [0, 0, 1, 0, 0, 0, 1, 1],\n",
       "       [0, 0, 0, 0, 0, 1, 1, 0],\n",
       "       [0, 1, 1, 0, 1, 0, 1, 1],\n",
       "       [0, 0, 0, 1, 1, 1, 0, 1],\n",
       "       [0, 1, 1, 1, 0, 1, 1, 0]])"
      ]
     },
     "execution_count": 2,
     "metadata": {},
     "output_type": "execute_result"
    }
   ],
   "source": [
    "n = 8\n",
    "A= rand_adj(n)\n",
    "A"
   ]
  },
  {
   "cell_type": "markdown",
   "id": "4b1577ee",
   "metadata": {},
   "source": [
    "### Review of Warmstart Calculations\n",
    "\n",
    "Because we already have seen that BM performs worse than GW almost universally, we will mainly be concerned with GW for now. We can consider other warmstarts later.\n",
    "\n",
    "We always rotate on the first qubit for vertex on top rotations (arbitrary choice)"
   ]
  },
  {
   "cell_type": "code",
   "execution_count": 3,
   "id": "6d1fb3b8",
   "metadata": {},
   "outputs": [],
   "source": [
    "Y = GW(A)  ###calculate the full GW embedding\n",
    "_,GW2_angles,_ = GW2(A,GW_Y=Y) ###project to 2d angles using precalculated GW embedding \n",
    "_,GW3_angles,_ = GW3(A,GW_Y=Y) ###project to 2d angles using precalculated GW embedding "
   ]
  },
  {
   "cell_type": "code",
   "execution_count": 4,
   "id": "e9737cf7",
   "metadata": {},
   "outputs": [],
   "source": [
    "###Get circuit information for each warmstart. Circuit information consists of the initial state + the mixer operators for each qubit\n",
    "GW2_circ_data = Q2_data(GW2_angles,rotation = 0)\n",
    "GW3_circ_data = Q3_data(GW3_angles,rotation = 0)"
   ]
  },
  {
   "cell_type": "markdown",
   "id": "98ce3750",
   "metadata": {},
   "source": [
    "Now we can use these results to evaluate some randomized QAOA circuits"
   ]
  },
  {
   "cell_type": "code",
   "execution_count": 5,
   "id": "9f1e68c3",
   "metadata": {},
   "outputs": [],
   "source": [
    "precomp  = pre_compute(A) ###compute the Hamiltonian information for the cost layers (shared for all circuits)\n",
    "HC = np.diag(precomp) ###compute explicit hamiltonian for later\n",
    "p = 40 ###depth of the circuits\n",
    "circuit_params  = np.random.random(2*p) * 2 * np.pi ###circuit parameters\n",
    "\n",
    "###split circuit params into gammas and betas\n",
    "gammas = circuit_params[p:]\n",
    "betas = circuit_params[:p]"
   ]
  },
  {
   "cell_type": "code",
   "execution_count": 6,
   "id": "fac9158a",
   "metadata": {},
   "outputs": [],
   "source": [
    "default_QAOA  = QAOA_eval(precomp,circuit_params,mixer_ops=None,init=None)\n",
    "GW2_QAOA  = QAOA_eval(precomp,circuit_params,mixer_ops=GW2_circ_data[1],init=GW2_circ_data[0])\n",
    "GW3_QAOA  = QAOA_eval(precomp,circuit_params,mixer_ops=GW3_circ_data[1],init=GW3_circ_data[0])"
   ]
  },
  {
   "cell_type": "markdown",
   "id": "a17c3a2b",
   "metadata": {},
   "source": [
    "### Comparison to exact matrix computation.\n",
    "\n",
    "Remember that the QAOA circuit is of the form \n",
    "$$|\\psi\\rangle = \\prod_{m=1}^p e^{-\\beta_m H_B } e^{-\\gamma_m H_C }|\\psi_\\textrm{init}\\rangle$$\n",
    "\n",
    "When choosing warmstarts, we can choose both $|\\psi_\\textrm{init}\\rangle$ (the initial state) and $H_B$ (the mixer Hamiltonian). "
   ]
  },
  {
   "cell_type": "markdown",
   "id": "5316863a",
   "metadata": {},
   "source": [
    "For the two dimensional warmstart we have \n",
    "$$|\\psi_\\textrm{int}\\rangle   = \\bigotimes_{j=0}^{n-1} \\left[\\cos\\left(\\frac{\\theta_j}{2}\\right)|0\\rangle + e^{-i\\pi/2}\\sin\\left(\\frac{\\theta_j}{2}\\right)|1\\rangle\\right]$$\n",
    "$$H_B = \\bigoplus_{j=0}^{n-1} (-\\sin(\\theta_j) Y + \\cos(\\theta_j)Z)$$"
   ]
  },
  {
   "cell_type": "code",
   "execution_count": 7,
   "id": "4616a9f9",
   "metadata": {},
   "outputs": [
    {
     "data": {
      "text/plain": [
       "(-6.217248937900877e-15-1.355854680848614e-31j)"
      ]
     },
     "execution_count": 7,
     "metadata": {},
     "output_type": "execute_result"
    }
   ],
   "source": [
    "GW2_rotated_angles = vertex_on_top(GW2_angles,0)\n",
    "\n",
    "GW2_HB = Q2_Hamiltonian(GW2_rotated_angles)\n",
    "GW2_psi_init = GW2_circ_data[0]\n",
    "\n",
    "np.linalg.eigvalsh(GW2_HB)[-1] - GW2_psi_init.conjugate().T @ GW2_HB @ GW2_psi_init  ###The initial state is always the maximal eigenvalue of the HB operator"
   ]
  },
  {
   "cell_type": "code",
   "execution_count": 8,
   "id": "bdd95f40",
   "metadata": {},
   "outputs": [
    {
     "data": {
      "text/plain": [
       "1.0000000000000338"
      ]
     },
     "execution_count": 8,
     "metadata": {},
     "output_type": "execute_result"
    }
   ],
   "source": [
    "GW2_psi = GW2_psi_init\n",
    "\n",
    "for i in range(p):\n",
    "    GW2_psi = expm(-1j * gammas[i] * HC) @ GW2_psi\n",
    "    GW2_psi = expm(-1j * betas[i] * GW2_HB) @ GW2_psi\n",
    "abs(GW2_psi.conjugate().T @ GW2_QAOA) #### Fidelity between this matrix computation and the custom backend (notice how slow the matrix compute is)"
   ]
  },
  {
   "cell_type": "markdown",
   "id": "c3f93c38",
   "metadata": {},
   "source": [
    "For the three dimensional warmstart we have \n",
    "$$|\\psi_\\textrm{int}\\rangle   = \\bigotimes_{j=0}^{n-1} \\left[\\cos\\left(\\frac{\\theta_j}{2}\\right)|0\\rangle + e^{i\\phi_j}\\sin\\left(\\frac{\\theta_j}{2}\\right)|1\\rangle\\right]$$\n",
    "$$H_B = \\bigoplus_{j=0}^{n-1} (\\cos(\\theta_j)\\sin(\\phi) X  +   \\sin(\\theta_j)\\sin(\\phi)  Y  + \\cos(\\phi) Z)$$"
   ]
  },
  {
   "cell_type": "code",
   "execution_count": 9,
   "id": "32ed8168",
   "metadata": {},
   "outputs": [
    {
     "data": {
      "text/plain": [
       "(-1.7763568394002505e-15+4.440892098500626e-16j)"
      ]
     },
     "execution_count": 9,
     "metadata": {},
     "output_type": "execute_result"
    }
   ],
   "source": [
    "GW3_rotated_angles = vertex_on_top(GW3_angles,0)\n",
    "\n",
    "GW3_HB = Q3_Hamiltonian(GW3_rotated_angles)\n",
    "GW3_psi_init = GW3_circ_data[0]\n",
    "\n",
    "np.linalg.eigvalsh(GW3_HB)[-1] - GW3_psi_init.conjugate().T @ GW3_HB @ GW3_psi_init  ###The initial state is always the maximal eigenvalue of the HB operator"
   ]
  },
  {
   "cell_type": "code",
   "execution_count": 10,
   "id": "874a7c49",
   "metadata": {},
   "outputs": [
    {
     "data": {
      "text/plain": [
       "0.9999999999999662"
      ]
     },
     "execution_count": 10,
     "metadata": {},
     "output_type": "execute_result"
    }
   ],
   "source": [
    "GW3_psi = GW3_psi_init\n",
    "for i in range(p):\n",
    "    GW3_psi = expm(-1j * gammas[i] * HC) @ GW3_psi\n",
    "    GW3_psi = expm(-1j * betas[i] * GW3_HB) @ GW3_psi\n",
    "\n",
    "abs(GW3_psi.conjugate().T @ GW3_QAOA) #### Fidelity between this matrix computation and the custom backend"
   ]
  },
  {
   "cell_type": "markdown",
   "id": "6186a6b4",
   "metadata": {},
   "source": [
    "For no warmstart we have\n",
    "$$|\\psi_\\textrm{int}\\rangle   = H^{\\otimes}|0\\rangle $$\n",
    "$$H_B = \\bigoplus_{j=0}^{n-1} X$$"
   ]
  },
  {
   "cell_type": "code",
   "execution_count": 11,
   "id": "a82af33e",
   "metadata": {},
   "outputs": [
    {
     "data": {
      "text/plain": [
       "(1.2434497875801753e-14+0j)"
      ]
     },
     "execution_count": 11,
     "metadata": {},
     "output_type": "execute_result"
    }
   ],
   "source": [
    "\n",
    "HB = default_Hamiltonian(n)\n",
    "psi_init = np.ones(2**n)/np.sqrt(2**n)\n",
    "\n",
    "np.linalg.eigvalsh(HB)[-1] - psi_init.conjugate().T @ HB @ psi_init  ###The initial state is always the maximal eigenvalue of the HB operator"
   ]
  },
  {
   "cell_type": "code",
   "execution_count": 12,
   "id": "280dd78e",
   "metadata": {},
   "outputs": [
    {
     "data": {
      "text/plain": [
       "1.0000000000000013"
      ]
     },
     "execution_count": 12,
     "metadata": {},
     "output_type": "execute_result"
    }
   ],
   "source": [
    "psi = psi_init\n",
    "for i in range(p):\n",
    "    psi = expm(-1j * gammas[i] * HC) @ psi\n",
    "    psi = expm(-1j * betas[i] * HB) @ psi\n",
    "\n",
    "abs(psi.conjugate().T @ default_QAOA) #### Fidelity between this matrix computation and the custom backend"
   ]
  },
  {
   "cell_type": "markdown",
   "id": "21d74a44",
   "metadata": {},
   "source": [
    "### Gradient Calculations"
   ]
  },
  {
   "cell_type": "markdown",
   "id": "d7d39e4b",
   "metadata": {},
   "source": [
    "The function we are aiming to optimize is \n",
    "$$C(\\theta) = C(\\beta,\\gamma) = \\langle \\psi | H | \\psi \\rangle$$\n",
    "Where \n",
    "$$|\\psi\\rangle = \\prod_{m=1}^p e^{-\\beta_m H_B } e^{-\\gamma_m H_C }|\\psi_\\textrm{init}\\rangle$$\n",
    "And $\\theta$ is a vector of the parameters, here $\\beta,\\gamma$"
   ]
  },
  {
   "cell_type": "markdown",
   "id": "67094af3",
   "metadata": {},
   "source": [
    "In order to determine how ''trainable'' a circuit is, we can compute gradients of the cost.\n",
    "\n",
    "$$\\frac{\\partial}{\\partial \\theta_\\mu}C(\\theta)=\\left\\langle \\left.\\frac{\\partial\\psi}{\\partial \\theta_\\mu} \\right| H | \\psi \\right\\rangle\n",
    "+\\left\\langle \\psi | H \\left|  \\frac{\\partial\\psi}{\\partial \\theta_\\mu}\\right.\\right\\rangle$$\n",
    "$$=2\\Re\\left[\\left\\langle \\left.\\frac{\\partial\\psi}{\\partial \\theta_\\mu} \\right|  H  |\\psi \\right\\rangle \\right]$$\n",
    "\n",
    "The total gradient of this function is a vector containing all of the partial derivatives. It lives in $\\mathbb{R}^{2p}$, half of the components are from $\\beta$ and half are from $\\gamma$\n",
    "\n",
    "Before we were concerned wih determining the value of C given $(\\beta,\\gamma)$, now we are interested in how the gradients behave. The difference is the first is a question of *training* while these second is a question of *trainability*.\n",
    "\n",
    "We will also write this gradient as $\\partial_\\mu C$ for convenience. The function ```QAOA_gradient_eval``` will compute these gradients. It takes in the same parameters as the QAOA evaluation circuit."
   ]
  },
  {
   "cell_type": "code",
   "execution_count": 13,
   "id": "0046e7f4",
   "metadata": {},
   "outputs": [],
   "source": [
    "### Numerically estimate gradient \n",
    "def gradient(f,x,eps=1e-7):\n",
    "    grads = []\n",
    "    for i in range(len(x)):\n",
    "        perturb = np.zeros(len(x))\n",
    "        perturb[i] = eps \n",
    "        grads.append((f(x+perturb)-f(x-perturb))/(2*eps))\n",
    "    return grads"
   ]
  },
  {
   "cell_type": "code",
   "execution_count": 14,
   "id": "62b24a10",
   "metadata": {},
   "outputs": [
    {
     "name": "stdout",
     "output_type": "stream",
     "text": [
      "1.9336075505384212e-08\n"
     ]
    }
   ],
   "source": [
    "### We can test that the analytical gradient methods line up with the numerical gradients\n",
    "QAOA_cost = lambda params: expval(precomp,QAOA_eval(precomp,params))\n",
    "print(f\"{np.linalg.norm(gradient(QAOA_cost, circuit_params) - QAOA_gradient_eval(precomp,circuit_params))}\")"
   ]
  },
  {
   "cell_type": "code",
   "execution_count": 15,
   "id": "84ddbfe5",
   "metadata": {},
   "outputs": [
    {
     "name": "stdout",
     "output_type": "stream",
     "text": [
      "3.013220660130116e-08\n"
     ]
    }
   ],
   "source": [
    "### We can test that the analytical gradient methods line up with the numerical gradients\n",
    "QAOA_cost = lambda params: expval(precomp,QAOA_eval(precomp,params,mixer_ops=GW2_circ_data[1],init=GW2_circ_data[0]))\n",
    "print(f\"{np.linalg.norm(gradient(QAOA_cost, circuit_params) - QAOA_gradient_eval(precomp,circuit_params,mixer_ops=GW2_circ_data[1],init=GW2_circ_data[0]))}\")"
   ]
  },
  {
   "cell_type": "code",
   "execution_count": 16,
   "id": "a6c78f51",
   "metadata": {},
   "outputs": [
    {
     "name": "stdout",
     "output_type": "stream",
     "text": [
      "2.4351170426903082e-08\n"
     ]
    }
   ],
   "source": [
    "### We can test that the analytical gradient methods line up with the numerical gradients\n",
    "QAOA_cost = lambda params: expval(precomp,QAOA_eval(precomp,params,mixer_ops=GW3_circ_data[1],init=GW3_circ_data[0]))\n",
    "print(f\"{np.linalg.norm(gradient(QAOA_cost, circuit_params) - QAOA_gradient_eval(precomp,circuit_params,mixer_ops=GW3_circ_data[1],init=GW3_circ_data[0]))}\")"
   ]
  },
  {
   "cell_type": "markdown",
   "id": "07e20c14",
   "metadata": {},
   "source": [
    "To measure how trainable a circuit is, we first compute the variance of the gradient (so the variance in each component) and then do an expectation value over all components \n",
    "$$\\mathbb{V} = \\mathbb{E}_\\mu\\left[\\textrm{Var} \\partial_\\mu C(\\beta,\\gamma)\\right]$$\n",
    "\n",
    "This is accomplished by the  ```QAOA_variance_sample``` method"
   ]
  },
  {
   "cell_type": "code",
   "execution_count": 17,
   "id": "5ca036aa",
   "metadata": {},
   "outputs": [],
   "source": [
    "p=50\n",
    "default_var = QAOA_variance_sample(precomp,p,shots=1)\n",
    "GW2_var = QAOA_variance_sample(precomp,p,mixer_ops=GW2_circ_data[1],init=GW2_circ_data[0],shots=1)\n",
    "GW3_var = QAOA_variance_sample(precomp,p,mixer_ops=GW3_circ_data[1],init=GW3_circ_data[0],shots=1)"
   ]
  },
  {
   "cell_type": "code",
   "execution_count": 18,
   "id": "b4a9b542",
   "metadata": {},
   "outputs": [
    {
     "name": "stdout",
     "output_type": "stream",
     "text": [
      "Default Variance: 0.0\n",
      "GW2 Variance: 0.0\n",
      "GW3 Variance: 0.0\n"
     ]
    }
   ],
   "source": [
    "print(f\"Default Variance: {default_var}\")\n",
    "print(f\"GW2 Variance: {GW2_var}\")\n",
    "print(f\"GW3 Variance: {GW3_var}\")"
   ]
  },
  {
   "cell_type": "markdown",
   "id": "1f4adb55",
   "metadata": {},
   "source": [
    "### To do List\n",
    "Near Term:\n",
    "* Try to get a method that parallelize the variance estimation. The variance is essentially just a for loop that computes a bunch of gradients with random parameters, so it should be easy to parallel process.\n",
    "* Get plots that show variance versus depth and versus number of qubits for a few graphs\n",
    "* Explore different graph distributions for those plots (GNP, NWS, etc.)\n",
    "\n",
    "Slightly Further Term:\n",
    "* Figure out a computationally efficient way to do Lie Algebra "
   ]
  },
  {
   "cell_type": "code",
   "execution_count": 51,
   "id": "5c2ccf3a-5767-43f7-ac9d-4a3c8eb8eb56",
   "metadata": {},
   "outputs": [
    {
     "data": {
      "application/vnd.jupyter.widget-view+json": {
       "model_id": "96522c07d34843fa8641de1c64244489",
       "version_major": 2,
       "version_minor": 0
      },
      "text/plain": [
       "  0%|          | 0/20 [00:00<?, ?it/s]"
      ]
     },
     "metadata": {},
     "output_type": "display_data"
    },
    {
     "name": "stdout",
     "output_type": "stream",
     "text": [
      "Depth: 10, 0.8931405974840677\n",
      "Depth: 20, 0.4563887158122227\n",
      "Depth: 30, 0.3993471255437722\n",
      "Depth: 40, 0.40283385612507605\n",
      "Depth: 50, 0.40145912887787927\n",
      "Depth: 60, 0.4131449163706076\n",
      "Depth: 70, 0.39287811416958446\n",
      "Depth: 80, 0.36707025007081895\n",
      "Depth: 90, 0.4344861392876506\n",
      "Depth: 100, 0.42626760193771623\n",
      "Depth: 110, 0.3934664815868738\n",
      "Depth: 120, 0.4031761870435987\n",
      "Depth: 130, 0.42201947414911556\n",
      "Depth: 140, 0.40745705606297605\n",
      "Depth: 150, 0.3954731180683909\n",
      "Depth: 160, 0.40338716925472157\n",
      "Depth: 170, 0.38006785141284144\n",
      "Depth: 180, 0.38559964810419195\n",
      "Depth: 190, 0.4311226609850348\n",
      "Depth: 200, 0.38190496061805934\n"
     ]
    }
   ],
   "source": [
    "beta_vars_default = variance_depth(beta_variance_sample,precomp,shots=1000)"
   ]
  },
  {
   "cell_type": "code",
   "execution_count": 52,
   "id": "643b433d-117f-4e52-ba62-ea075331711a",
   "metadata": {},
   "outputs": [
    {
     "data": {
      "application/vnd.jupyter.widget-view+json": {
       "model_id": "25313f5fec84463fb4cdfce9afe1ff3a",
       "version_major": 2,
       "version_minor": 0
      },
      "text/plain": [
       "  0%|          | 0/20 [00:00<?, ?it/s]"
      ]
     },
     "metadata": {},
     "output_type": "display_data"
    },
    {
     "name": "stdout",
     "output_type": "stream",
     "text": [
      "Depth: 10, 1.473094407129929\n",
      "Depth: 20, 1.094621397286253\n",
      "Depth: 30, 0.9161516117230363\n",
      "Depth: 40, 0.790994998103032\n",
      "Depth: 50, 0.7082879280892769\n",
      "Depth: 60, 0.7206821729030456\n",
      "Depth: 70, 0.6465531235311648\n",
      "Depth: 80, 0.691342933736016\n",
      "Depth: 90, 0.5915291832237146\n",
      "Depth: 100, 0.6648895404548943\n",
      "Depth: 110, 0.5940479224447188\n",
      "Depth: 120, 0.6038973644964489\n",
      "Depth: 130, 0.5842857848730141\n",
      "Depth: 140, 0.5766127666805001\n",
      "Depth: 150, 0.605488148921639\n",
      "Depth: 160, 0.5990114122133947\n",
      "Depth: 170, 0.5399031955224828\n",
      "Depth: 180, 0.5331064063663356\n",
      "Depth: 190, 0.5534914116434365\n",
      "Depth: 200, 0.5646032073349223\n"
     ]
    }
   ],
   "source": [
    "beta_vars_GW2 = variance_depth(beta_variance_sample,precomp,mixer_ops=GW2_circ_data[1],init=GW2_circ_data[0],shots=1000)"
   ]
  },
  {
   "cell_type": "code",
   "execution_count": 53,
   "id": "5163757d-1a39-4008-8304-5c30d51a6e99",
   "metadata": {},
   "outputs": [
    {
     "data": {
      "application/vnd.jupyter.widget-view+json": {
       "model_id": "4c1d123c5caf4e63b24a9cced1bc2e3a",
       "version_major": 2,
       "version_minor": 0
      },
      "text/plain": [
       "  0%|          | 0/20 [00:00<?, ?it/s]"
      ]
     },
     "metadata": {},
     "output_type": "display_data"
    },
    {
     "name": "stdout",
     "output_type": "stream",
     "text": [
      "Depth: 10, 1.4375594376238037\n",
      "Depth: 20, 0.9412189807630793\n",
      "Depth: 30, 0.7589084892208299\n",
      "Depth: 40, 0.7829167798476866\n",
      "Depth: 50, 0.6915360781996172\n",
      "Depth: 60, 0.6364676270472047\n",
      "Depth: 70, 0.6564429487829049\n",
      "Depth: 80, 0.5956494232296068\n",
      "Depth: 90, 0.600603016664236\n",
      "Depth: 100, 0.5758250878586819\n",
      "Depth: 110, 0.5600268608889264\n",
      "Depth: 120, 0.562390555132527\n",
      "Depth: 130, 0.5448166215930517\n",
      "Depth: 140, 0.551063008446473\n",
      "Depth: 150, 0.6267485398595887\n",
      "Depth: 160, 0.5901826768542945\n",
      "Depth: 170, 0.5783581974249897\n",
      "Depth: 180, 0.5515819123770889\n",
      "Depth: 190, 0.5401235862706826\n",
      "Depth: 200, 0.6088407113479155\n"
     ]
    }
   ],
   "source": [
    "beta_vars_GW3 = variance_depth(beta_variance_sample,precomp,mixer_ops=GW3_circ_data[1],init=GW3_circ_data[0],shots=1000)"
   ]
  },
  {
   "cell_type": "code",
   "execution_count": 1,
   "id": "262e416d-4132-46bf-b287-6d834041976e",
   "metadata": {},
   "outputs": [
    {
     "ename": "NameError",
     "evalue": "name 'variance_plot' is not defined",
     "output_type": "error",
     "traceback": [
      "\u001b[1;31m---------------------------------------------------------------------------\u001b[0m",
      "\u001b[1;31mNameError\u001b[0m                                 Traceback (most recent call last)",
      "Cell \u001b[1;32mIn[1], line 1\u001b[0m\n\u001b[1;32m----> 1\u001b[0m variance_plot(\u001b[38;5;124m\"\u001b[39m\u001b[38;5;124mBeta_Default\u001b[39m\u001b[38;5;124m\"\u001b[39m, beta_vars_default)\n\u001b[0;32m      2\u001b[0m variance_plot(\u001b[38;5;124m\"\u001b[39m\u001b[38;5;124mBeta_GW2\u001b[39m\u001b[38;5;124m\"\u001b[39m, beta_vars_GW2)\n\u001b[0;32m      3\u001b[0m variance_plot(\u001b[38;5;124m\"\u001b[39m\u001b[38;5;124mBeta_GW3\u001b[39m\u001b[38;5;124m\"\u001b[39m, beta_vars_GW3)\n",
      "\u001b[1;31mNameError\u001b[0m: name 'variance_plot' is not defined"
     ]
    }
   ],
   "source": [
    "variance_plot(\"Beta_Default\", beta_vars_default)\n",
    "variance_plot(\"Beta_GW2\", beta_vars_GW2)\n",
    "variance_plot(\"Beta_GW3\", beta_vars_GW3)"
   ]
  },
  {
   "cell_type": "code",
   "execution_count": 5,
   "id": "ca58d913-3136-4da7-a4ad-66e64fe6897a",
   "metadata": {},
   "outputs": [],
   "source": [
    "data = \"\"\"1\n",
    "Depth: 10, 0.8931405974840677\n",
    "Depth: 20, 0.4563887158122227\n",
    "Depth: 30, 0.3993471255437722\n",
    "Depth: 40, 0.40283385612507605\n",
    "Depth: 50, 0.40145912887787927\n",
    "Depth: 60, 0.4131449163706076\n",
    "Depth: 70, 0.39287811416958446\n",
    "Depth: 80, 0.36707025007081895\n",
    "Depth: 90, 0.4344861392876506\n",
    "Depth: 100, 0.42626760193771623\n",
    "Depth: 110, 0.3934664815868738\n",
    "Depth: 120, 0.4031761870435987\n",
    "Depth: 130, 0.42201947414911556\n",
    "Depth: 140, 0.40745705606297605\n",
    "Depth: 150, 0.3954731180683909\n",
    "Depth: 160, 0.40338716925472157\n",
    "Depth: 170, 0.38006785141284144\n",
    "Depth: 180, 0.38559964810419195\n",
    "Depth: 190, 0.4311226609850348\n",
    "Depth: 200, 0.38190496061805934\n",
    "2\n",
    "Depth: 10, 1.473094407129929\n",
    "Depth: 20, 1.094621397286253\n",
    "Depth: 30, 0.9161516117230363\n",
    "Depth: 40, 0.790994998103032\n",
    "Depth: 50, 0.7082879280892769\n",
    "Depth: 60, 0.7206821729030456\n",
    "Depth: 70, 0.6465531235311648\n",
    "Depth: 80, 0.691342933736016\n",
    "Depth: 90, 0.5915291832237146\n",
    "Depth: 100, 0.6648895404548943\n",
    "Depth: 110, 0.5940479224447188\n",
    "Depth: 120, 0.6038973644964489\n",
    "Depth: 130, 0.5842857848730141\n",
    "Depth: 140, 0.5766127666805001\n",
    "Depth: 150, 0.605488148921639\n",
    "Depth: 160, 0.5990114122133947\n",
    "Depth: 170, 0.5399031955224828\n",
    "Depth: 180, 0.5331064063663356\n",
    "Depth: 190, 0.5534914116434365\n",
    "Depth: 200, 0.5646032073349223\n",
    "3\n",
    "Depth: 10, 1.4375594376238037\n",
    "Depth: 20, 0.9412189807630793\n",
    "Depth: 30, 0.7589084892208299\n",
    "Depth: 40, 0.7829167798476866\n",
    "Depth: 50, 0.6915360781996172\n",
    "Depth: 60, 0.6364676270472047\n",
    "Depth: 70, 0.6564429487829049\n",
    "Depth: 80, 0.5956494232296068\n",
    "Depth: 90, 0.600603016664236\n",
    "Depth: 100, 0.5758250878586819\n",
    "Depth: 110, 0.5600268608889264\n",
    "Depth: 120, 0.562390555132527\n",
    "Depth: 130, 0.5448166215930517\n",
    "Depth: 140, 0.551063008446473\n",
    "Depth: 150, 0.6267485398595887\n",
    "Depth: 160, 0.5901826768542945\n",
    "Depth: 170, 0.5783581974249897\n",
    "Depth: 180, 0.5515819123770889\n",
    "Depth: 190, 0.5401235862706826\n",
    "Depth: 200, 0.6088407113479155\"\"\""
   ]
  },
  {
   "cell_type": "code",
   "execution_count": 6,
   "id": "c2a3eb5c-8c43-4496-8db9-d77e8fab66f7",
   "metadata": {},
   "outputs": [
    {
     "name": "stdout",
     "output_type": "stream",
     "text": [
      "List 1: [0.8931405974840677, 0.4563887158122227, 0.3993471255437722, 0.40283385612507605, 0.40145912887787927, 0.4131449163706076, 0.39287811416958446, 0.36707025007081895, 0.4344861392876506, 0.42626760193771623, 0.3934664815868738, 0.4031761870435987, 0.42201947414911556, 0.40745705606297605, 0.3954731180683909, 0.40338716925472157, 0.38006785141284144, 0.38559964810419195, 0.4311226609850348, 0.38190496061805934]\n",
      "List 2: [1.473094407129929, 1.094621397286253, 0.9161516117230363, 0.790994998103032, 0.7082879280892769, 0.7206821729030456, 0.6465531235311648, 0.691342933736016, 0.5915291832237146, 0.6648895404548943, 0.5940479224447188, 0.6038973644964489, 0.5842857848730141, 0.5766127666805001, 0.605488148921639, 0.5990114122133947, 0.5399031955224828, 0.5331064063663356, 0.5534914116434365, 0.5646032073349223]\n",
      "List 3: [1.4375594376238037, 0.9412189807630793, 0.7589084892208299, 0.7829167798476866, 0.6915360781996172, 0.6364676270472047, 0.6564429487829049, 0.5956494232296068, 0.600603016664236, 0.5758250878586819, 0.5600268608889264, 0.562390555132527, 0.5448166215930517, 0.551063008446473, 0.6267485398595887, 0.5901826768542945, 0.5783581974249897, 0.5515819123770889, 0.5401235862706826, 0.6088407113479155]\n"
     ]
    }
   ],
   "source": [
    "# Split the data into blocks based on headers \"1\", \"2\", \"3\"\n",
    "blocks = data.strip().split(\"\\n\")\n",
    "list1, list2, list3 = [], [], []\n",
    "current_list = None\n",
    "\n",
    "for line in blocks:\n",
    "    line = line.strip()\n",
    "    if line == \"1\":\n",
    "        current_list = list1\n",
    "    elif line == \"2\":\n",
    "        current_list = list2\n",
    "    elif line == \"3\":\n",
    "        current_list = list3\n",
    "    elif line.startswith(\"Depth:\") and current_list is not None:\n",
    "        try:\n",
    "            value = float(line.split(\",\")[1].strip())\n",
    "            current_list.append(value)\n",
    "        except:\n",
    "            pass\n",
    "\n",
    "print(\"List 1:\", list1)\n",
    "print(\"List 2:\", list2)\n",
    "print(\"List 3:\", list3)"
   ]
  },
  {
   "cell_type": "code",
   "execution_count": 7,
   "id": "1e9c5a20-1340-481f-bd94-2086e6a4cf02",
   "metadata": {},
   "outputs": [
    {
     "data": {
      "image/png": "[encoded data removed]",
      "text/plain": [
       "<Figure size 1000x400 with 1 Axes>"
      ]
     },
     "metadata": {},
     "output_type": "display_data"
    },
    {
     "data": {
      "image/png": "[encoded data removed]",
      "text/plain": [
       "<Figure size 1000x400 with 1 Axes>"
      ]
     },
     "metadata": {},
     "output_type": "display_data"
    },
    {
     "data": {
      "image/png": "[encoded data removed]",
      "text/plain": [
       "<Figure size 1000x400 with 1 Axes>"
      ]
     },
     "metadata": {},
     "output_type": "display_data"
    }
   ],
   "source": [
    "variance_plot(\"Beta_Default\", list1)\n",
    "variance_plot(\"Beta_GW2\", list2)\n",
    "variance_plot(\"Beta_GW3\", list3)"
   ]
  },
  {
   "cell_type": "code",
   "execution_count": 8,
   "id": "d041cf20-923c-41ff-a56c-af3de73b0bb6",
   "metadata": {},
   "outputs": [],
   "source": [
    "def variance_plot(name, vars1, vars2, vars3, initial_p=10, max_p=210, step_size=10):\n",
    "    p_values = list(range(initial_p, max_p, step_size))\n",
    "\n",
    "    plt.figure(figsize=(10, 4))\n",
    "    \n",
    "    # Plot all three with different styles\n",
    "    plt.plot(p_values, vars1, 'o-', label='Default')\n",
    "    plt.plot(p_values, vars2, 's--', label='Gw2')\n",
    "    plt.plot(p_values, vars3, '^-', label='Gw3')\n",
    "    \n",
    "    plt.xlabel(\"p\")\n",
    "    plt.ylabel(\"Variance (log scale)\")\n",
    "    plt.title(name + \" Variance vs Depth\")\n",
    "    plt.yscale(\"log\")\n",
    "    plt.grid(True)\n",
    "    plt.legend()\n",
    "    plt.tight_layout()\n",
    "    plt.show()"
   ]
  },
  {
   "cell_type": "code",
   "execution_count": 9,
   "id": "47ef6164-3080-422c-8a4f-d0da478b4765",
   "metadata": {},
   "outputs": [
    {
     "data": {
      "image/png": "[encoded data removed]",
      "text/plain": [
       "<Figure size 1000x400 with 1 Axes>"
      ]
     },
     "metadata": {},
     "output_type": "display_data"
    }
   ],
   "source": [
    "variance_plot(\"\", list1, list2, list3)"
   ]
  },
  {
   "cell_type": "code",
   "execution_count": null,
   "id": "466c5db5-0a5b-4093-95a2-2a672122fc45",
   "metadata": {},
   "outputs": [],
   "source": []
  }
 ],
 "metadata": {
  "kernelspec": {
   "display_name": "Python 3 (ipykernel)",
   "language": "python",
   "name": "python3"
  },
  "language_info": {
   "codemirror_mode": {
    "name": "ipython",
    "version": 3
   },
   "file_extension": ".py",
   "mimetype": "text/x-python",
   "name": "python",
   "nbconvert_exporter": "python",
   "pygments_lexer": "ipython3",
   "version": "3.12.2"
  }
 },
 "nbformat": 4,
 "nbformat_minor": 5
}
