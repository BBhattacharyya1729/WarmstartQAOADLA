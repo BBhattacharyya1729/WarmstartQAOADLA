{
 "cells": [
  {
   "cell_type": "code",
   "execution_count": 1,
   "id": "cdf7e329-f0db-45d4-aa11-2acb005a353f",
   "metadata": {},
   "outputs": [],
   "source": [
    "from QAOAUtils import * \n",
    "from LieUtils import *"
   ]
  },
  {
   "cell_type": "code",
   "execution_count": 2,
   "id": "d1bcef87-aeb7-4214-bcae-8973bc44679f",
   "metadata": {},
   "outputs": [],
   "source": [
    "def qaoa_cost(params, precomp, mixer_ops, init_state):\n",
    "    psi = QAOA_eval(precomp, params, mixer_ops, init_state)\n",
    "    return np.real(np.dot(np.conj(psi), precomp * psi))"
   ]
  },
  {
   "cell_type": "code",
   "execution_count": 3,
   "id": "032fc475-7e1d-414c-bd36-2b39eeef1832",
   "metadata": {},
   "outputs": [],
   "source": [
    "from scipy.optimize import minimize\n",
    "\n",
    "def BFGS_optimize(precomp, mixer_ops, init_state, p=1):\n",
    "    init_params = np.random.uniform(0, np.pi, size= 2 * p)\n",
    "    cost_fn = lambda x: qaoa_cost(x, precomp, mixer_ops, init_state)\n",
    "\n",
    "    result = minimize(cost_fn, init_params, method='BFGS', options={'maxiter': 10})\n",
    "    return result.x "
   ]
  },
  {
   "cell_type": "code",
   "execution_count": 4,
   "id": "216495c4-ae41-4aff-9938-eebeea3b27f0",
   "metadata": {},
   "outputs": [],
   "source": [
    "from scipy.stats import gmean\n",
    "\n",
    "def estimate_basin_radius(min_params, cost_fn, precision=1e-2, epsilon=1e-2):\n",
    "    n = len(min_params)\n",
    "    directions = np.linalg.qr(np.random.randn(n, n))[0].T  # orthonormal directions\n",
    "    radii = []\n",
    "\n",
    "    for d in directions:\n",
    "        l, r = 0, np.pi\n",
    "        while r - l > precision:\n",
    "            mid = (l + r) / 2\n",
    "            perturbed = min_params + d * mid\n",
    "            result = minimize(cost_fn, perturbed, method='BFGS', options={'maxiter': 10})\n",
    "            if np.linalg.norm(result.x - min_params) < epsilon:\n",
    "                l = mid\n",
    "            else:\n",
    "                r = mid\n",
    "        radii.append(l)\n",
    "    \n",
    "    return gmean(radii)"
   ]
  },
  {
   "cell_type": "code",
   "execution_count": 5,
   "id": "73dabc94-90d9-4e2a-ac43-172b60a7c3c8",
   "metadata": {},
   "outputs": [],
   "source": [
    "def estimate_num_minima(all_radii, param_dim):\n",
    "    mean_radius = gmean(all_radii)\n",
    "    \n",
    "    V_total = (2 * np.pi)**param_dim\n",
    "    basin_vol = (np.pi ** (param_dim / 2)) / np.math.gamma(param_dim / 2 + 1) * mean_radius ** param_dim\n",
    "    \n",
    "    return V_total / basin_vol"
   ]
  },
  {
   "cell_type": "code",
   "execution_count": 8,
   "id": "61bfa29f-4859-4b60-b791-ba45896583db",
   "metadata": {},
   "outputs": [],
   "source": [
    "def local_minima(precomp, GW2_circ_data, GW3_circ_data, A, GW2_angles, GW3_angles):\n",
    "    pickle_file = 'LocalMinimaRuns.pkl'\n",
    "    \n",
    "    if os.path.exists(pickle_file):\n",
    "        with open(pickle_file, 'rb') as f:\n",
    "            all_runs = pickle.load(f)\n",
    "    else:\n",
    "        all_runs = []\n",
    "\n",
    "    ### BEGIN: Estimate basin radii and number of minima\n",
    "    all_radii = []\n",
    "    print(1)\n",
    "    for init_angles, circ_data in [(GW2_angles, GW2_circ_data), (GW3_angles, GW3_circ_data)]:\n",
    "        print(2)\n",
    "        min_params = BFGS_optimize(precomp, circ_data[1], circ_data[0], p=len(circ_data[1](0.5)))\n",
    "        print(3)\n",
    "        cost_fn = lambda x: qaoa_cost(x, precomp, circ_data[1], circ_data[0])\n",
    "        print(4)\n",
    "        radius = estimate_basin_radius(min_params, cost_fn)\n",
    "        print(5)\n",
    "        all_radii.append(radius)\n",
    "        print(6)\n",
    "    \n",
    "    num_minima_est = estimate_num_minima(all_radii, len(min_params))\n",
    "    ### END\n",
    "\n",
    "    all_runs.append({\n",
    "        'A': A,\n",
    "        'GW2_angles': GW2_angles,\n",
    "        'GW3_angles': GW3_angles,\n",
    "        'basin_radii': all_radii,\n",
    "        'estimated_minima': num_minima_est\n",
    "    })\n",
    "    \n",
    "    with open(pickle_file, 'wb') as f:\n",
    "        pickle.dump(all_runs, f)\n"
   ]
  },
  {
   "cell_type": "code",
   "execution_count": 13,
   "id": "33df50f1-ec4e-44c6-884b-1f78db21422f",
   "metadata": {},
   "outputs": [
    {
     "name": "stderr",
     "output_type": "stream",
     "text": [
      "Overall Progress:   0%|                                                                         | 0/20 [00:00<?, ?it/s]"
     ]
    },
    {
     "name": "stdout",
     "output_type": "stream",
     "text": [
      "1\n",
      "2\n",
      "3\n",
      "4\n",
      "5\n",
      "6\n",
      "2\n",
      "3\n",
      "4\n"
     ]
    },
    {
     "name": "stderr",
     "output_type": "stream",
     "text": [
      "C:\\Users\\Micha\\AppData\\Local\\Temp\\ipykernel_7836\\1489087418.py:5: DeprecationWarning: `np.math` is a deprecated alias for the standard library `math` module (Deprecated Numpy 1.25). Replace usages of `np.math` with `math`\n",
      "  basin_vol = (np.pi ** (param_dim / 2)) / np.math.gamma(param_dim / 2 + 1) * mean_radius ** param_dim\n",
      "Overall Progress:   5%|███▎                                                             | 1/20 [00:03<01:00,  3.19s/it]"
     ]
    },
    {
     "name": "stdout",
     "output_type": "stream",
     "text": [
      "5\n",
      "6\n",
      "Estimated number of local minima: 2.9785946427344433e+23\n",
      "1\n",
      "2\n",
      "3\n",
      "4\n",
      "5\n",
      "6\n",
      "2\n",
      "3\n",
      "4\n"
     ]
    },
    {
     "name": "stderr",
     "output_type": "stream",
     "text": [
      "C:\\Users\\Micha\\AppData\\Local\\Temp\\ipykernel_7836\\1489087418.py:7: RuntimeWarning: divide by zero encountered in scalar divide\n",
      "  return V_total / basin_vol\n",
      "Overall Progress:  10%|██████▌                                                          | 2/20 [00:55<09:32, 31.80s/it]"
     ]
    },
    {
     "name": "stdout",
     "output_type": "stream",
     "text": [
      "5\n",
      "6\n",
      "Estimated number of local minima: inf\n",
      "1\n",
      "2\n",
      "3\n",
      "4\n",
      "5\n",
      "6\n",
      "2\n",
      "3\n",
      "4\n"
     ]
    },
    {
     "name": "stderr",
     "output_type": "stream",
     "text": [
      "Overall Progress:  15%|█████████▊                                                       | 3/20 [01:34<10:03, 35.53s/it]"
     ]
    },
    {
     "name": "stdout",
     "output_type": "stream",
     "text": [
      "5\n",
      "6\n",
      "Estimated number of local minima: inf\n",
      "1\n",
      "2\n",
      "3\n",
      "4\n",
      "5\n",
      "6\n",
      "2\n",
      "3\n",
      "4\n"
     ]
    },
    {
     "name": "stderr",
     "output_type": "stream",
     "text": [
      "Overall Progress:  20%|█████████████                                                    | 4/20 [02:19<10:22, 38.93s/it]"
     ]
    },
    {
     "name": "stdout",
     "output_type": "stream",
     "text": [
      "5\n",
      "6\n",
      "Estimated number of local minima: inf\n",
      "1\n",
      "2\n",
      "3\n",
      "4\n",
      "5\n",
      "6\n",
      "2\n",
      "3\n",
      "4\n"
     ]
    },
    {
     "name": "stderr",
     "output_type": "stream",
     "text": [
      "Overall Progress:  25%|████████████████▎                                                | 5/20 [02:56<09:37, 38.51s/it]"
     ]
    },
    {
     "name": "stdout",
     "output_type": "stream",
     "text": [
      "5\n",
      "6\n",
      "Estimated number of local minima: inf\n",
      "1\n",
      "2\n",
      "3\n",
      "4\n",
      "5\n",
      "6\n",
      "2\n",
      "3\n",
      "4\n"
     ]
    },
    {
     "name": "stderr",
     "output_type": "stream",
     "text": [
      "Overall Progress:  30%|███████████████████▌                                             | 6/20 [03:33<08:48, 37.73s/it]"
     ]
    },
    {
     "name": "stdout",
     "output_type": "stream",
     "text": [
      "5\n",
      "6\n",
      "Estimated number of local minima: inf\n",
      "1\n",
      "2\n",
      "3\n",
      "4\n",
      "5\n",
      "6\n",
      "2\n",
      "3\n",
      "4\n"
     ]
    },
    {
     "name": "stderr",
     "output_type": "stream",
     "text": [
      "Overall Progress:  35%|██████████████████████▊                                          | 7/20 [03:40<06:01, 27.78s/it]"
     ]
    },
    {
     "name": "stdout",
     "output_type": "stream",
     "text": [
      "5\n",
      "6\n",
      "Estimated number of local minima: 2.9785946427344433e+23\n",
      "1\n",
      "2\n",
      "3\n",
      "4\n",
      "5\n",
      "6\n",
      "2\n",
      "3\n",
      "4\n"
     ]
    },
    {
     "name": "stderr",
     "output_type": "stream",
     "text": [
      "Overall Progress:  40%|██████████████████████████                                       | 8/20 [03:43<03:59, 19.98s/it]"
     ]
    },
    {
     "name": "stdout",
     "output_type": "stream",
     "text": [
      "5\n",
      "6\n",
      "Estimated number of local minima: 2.9785946427344433e+23\n",
      "1\n",
      "2\n",
      "3\n",
      "4\n",
      "5\n",
      "6\n",
      "2\n",
      "3\n",
      "4\n"
     ]
    },
    {
     "name": "stderr",
     "output_type": "stream",
     "text": [
      "Overall Progress:  45%|█████████████████████████████▎                                   | 9/20 [03:46<02:42, 14.77s/it]"
     ]
    },
    {
     "name": "stdout",
     "output_type": "stream",
     "text": [
      "5\n",
      "6\n",
      "Estimated number of local minima: 2.9785946427344433e+23\n",
      "1\n",
      "2\n",
      "3\n",
      "4\n",
      "5\n",
      "6\n",
      "2\n",
      "3\n",
      "4\n"
     ]
    },
    {
     "name": "stderr",
     "output_type": "stream",
     "text": [
      "Overall Progress:  50%|████████████████████████████████                                | 10/20 [04:33<04:05, 24.59s/it]"
     ]
    },
    {
     "name": "stdout",
     "output_type": "stream",
     "text": [
      "5\n",
      "6\n",
      "Estimated number of local minima: inf\n",
      "1\n",
      "2\n",
      "3\n",
      "4\n",
      "5\n",
      "6\n",
      "2\n",
      "3\n",
      "4\n"
     ]
    },
    {
     "name": "stderr",
     "output_type": "stream",
     "text": [
      "Overall Progress:  55%|███████████████████████████████████▏                            | 11/20 [04:36<02:42, 18.07s/it]"
     ]
    },
    {
     "name": "stdout",
     "output_type": "stream",
     "text": [
      "5\n",
      "6\n",
      "Estimated number of local minima: 2.9785946427344433e+23\n",
      "1\n",
      "2\n",
      "3\n",
      "4\n",
      "5\n",
      "6\n",
      "2\n",
      "3\n",
      "4\n"
     ]
    },
    {
     "name": "stderr",
     "output_type": "stream",
     "text": [
      "Overall Progress:  60%|██████████████████████████████████████▍                         | 12/20 [04:40<01:48, 13.59s/it]"
     ]
    },
    {
     "name": "stdout",
     "output_type": "stream",
     "text": [
      "5\n",
      "6\n",
      "Estimated number of local minima: 2.9785946427344433e+23\n",
      "1\n",
      "2\n",
      "3\n",
      "4\n",
      "5\n",
      "6\n",
      "2\n",
      "3\n",
      "4\n"
     ]
    },
    {
     "name": "stderr",
     "output_type": "stream",
     "text": [
      "Overall Progress:  65%|█████████████████████████████████████████▌                      | 13/20 [04:43<01:13, 10.47s/it]"
     ]
    },
    {
     "name": "stdout",
     "output_type": "stream",
     "text": [
      "5\n",
      "6\n",
      "Estimated number of local minima: 2.9785946427344433e+23\n",
      "1\n",
      "2\n",
      "3\n",
      "4\n",
      "5\n",
      "6\n",
      "2\n",
      "3\n",
      "4\n"
     ]
    },
    {
     "name": "stderr",
     "output_type": "stream",
     "text": [
      "Overall Progress:  70%|████████████████████████████████████████████▊                   | 14/20 [05:18<01:46, 17.81s/it]"
     ]
    },
    {
     "name": "stdout",
     "output_type": "stream",
     "text": [
      "5\n",
      "6\n",
      "Estimated number of local minima: inf\n",
      "1\n",
      "2\n",
      "3\n",
      "4\n",
      "5\n",
      "6\n",
      "2\n",
      "3\n",
      "4\n"
     ]
    },
    {
     "name": "stderr",
     "output_type": "stream",
     "text": [
      "Overall Progress:  75%|████████████████████████████████████████████████                | 15/20 [05:21<01:07, 13.43s/it]"
     ]
    },
    {
     "name": "stdout",
     "output_type": "stream",
     "text": [
      "5\n",
      "6\n",
      "Estimated number of local minima: 2.9785946427344433e+23\n",
      "1\n",
      "2\n",
      "3\n",
      "4\n",
      "5\n",
      "6\n",
      "2\n",
      "3\n",
      "4\n"
     ]
    },
    {
     "name": "stderr",
     "output_type": "stream",
     "text": [
      "Overall Progress:  80%|███████████████████████████████████████████████████▏            | 16/20 [05:24<00:41, 10.38s/it]"
     ]
    },
    {
     "name": "stdout",
     "output_type": "stream",
     "text": [
      "5\n",
      "6\n",
      "Estimated number of local minima: 2.9785946427344433e+23\n",
      "1\n",
      "2\n",
      "3\n",
      "4\n",
      "5\n",
      "6\n",
      "2\n",
      "3\n",
      "4\n"
     ]
    },
    {
     "name": "stderr",
     "output_type": "stream",
     "text": [
      "Overall Progress:  85%|██████████████████████████████████████████████████████▍         | 17/20 [05:27<00:24,  8.19s/it]"
     ]
    },
    {
     "name": "stdout",
     "output_type": "stream",
     "text": [
      "5\n",
      "6\n",
      "Estimated number of local minima: 2.9785946427344433e+23\n",
      "1\n",
      "2\n",
      "3\n",
      "4\n",
      "5\n",
      "6\n",
      "2\n",
      "3\n",
      "4\n"
     ]
    },
    {
     "name": "stderr",
     "output_type": "stream",
     "text": [
      "Overall Progress:  90%|█████████████████████████████████████████████████████████▌      | 18/20 [06:07<00:35, 17.55s/it]"
     ]
    },
    {
     "name": "stdout",
     "output_type": "stream",
     "text": [
      "5\n",
      "6\n",
      "Estimated number of local minima: inf\n",
      "1\n",
      "2\n",
      "3\n",
      "4\n",
      "5\n",
      "6\n",
      "2\n",
      "3\n",
      "4\n"
     ]
    },
    {
     "name": "stderr",
     "output_type": "stream",
     "text": [
      "Overall Progress:  95%|████████████████████████████████████████████████████████████▊   | 19/20 [06:10<00:13, 13.28s/it]"
     ]
    },
    {
     "name": "stdout",
     "output_type": "stream",
     "text": [
      "5\n",
      "6\n",
      "Estimated number of local minima: 2.9785946427344433e+23\n",
      "1\n",
      "2\n",
      "3\n",
      "4\n",
      "5\n",
      "6\n",
      "2\n",
      "3\n",
      "4\n"
     ]
    },
    {
     "name": "stderr",
     "output_type": "stream",
     "text": [
      "Overall Progress: 100%|████████████████████████████████████████████████████████████████| 20/20 [06:53<00:00, 20.69s/it]"
     ]
    },
    {
     "name": "stdout",
     "output_type": "stream",
     "text": [
      "5\n",
      "6\n",
      "Estimated number of local minima: inf\n"
     ]
    },
    {
     "name": "stderr",
     "output_type": "stream",
     "text": [
      "\n"
     ]
    }
   ],
   "source": [
    "from tqdm import tqdm\n",
    "\n",
    "for _ in tqdm(range(20), \"Overall Progress\"):\n",
    "    n = 4\n",
    "    A = rand_adj(n)\n",
    "    \n",
    "    Y = GW(A)  ### full GW embedding\n",
    "    _, GW2_angles, _ = GW2(A, GW_Y=Y)\n",
    "    _, GW3_angles, _ = GW3(A, GW_Y=Y)\n",
    "    \n",
    "    GW2_circ_data = Q2_data(GW2_angles, rotation=0)\n",
    "    GW3_circ_data = Q3_data(GW3_angles, rotation=0)\n",
    "\n",
    "    precomp = pre_compute(A)  ### Hamiltonian info\n",
    "\n",
    "    local_minima(precomp, GW2_circ_data, GW3_circ_data, A, GW2_angles, GW3_angles)\n"
   ]
  },
  {
   "cell_type": "code",
   "execution_count": 17,
   "id": "62f92c30-dd43-46d6-9938-698acb00a2b1",
   "metadata": {},
   "outputs": [
    {
     "name": "stdout",
     "output_type": "stream",
     "text": [
      "2.9785946427344433e+23\n",
      "2.9785946427344433e+23\n",
      "inf\n",
      "inf\n",
      "inf\n",
      "inf\n",
      "inf\n",
      "2.9785946427344433e+23\n",
      "2.9785946427344433e+23\n",
      "2.9785946427344433e+23\n",
      "inf\n",
      "2.9785946427344433e+23\n",
      "2.9785946427344433e+23\n",
      "2.9785946427344433e+23\n",
      "inf\n",
      "2.9785946427344433e+23\n",
      "2.9785946427344433e+23\n",
      "2.9785946427344433e+23\n",
      "inf\n",
      "2.9785946427344433e+23\n",
      "inf\n"
     ]
    }
   ],
   "source": [
    "pickle_file = 'LocalMinimaRuns.pkl'\n",
    "with open(pickle_file, 'rb') as f:\n",
    "    all_runs = pickle.load(f)\n",
    "\n",
    "for a in all_runs:\n",
    "    print(a[\"estimated_minima\"])"
   ]
  },
  {
   "cell_type": "code",
   "execution_count": null,
   "id": "823faeeb-b95d-42be-b05b-9ef32666115b",
   "metadata": {},
   "outputs": [],
   "source": [
    "radii_over_runs = [gmean(run['basin_radii']) for run in all_runs]\n",
    "minima_over_runs = [run['estimated_minima'] for run in all_runs]\n",
    "\n",
    "plt.plot(radii_over_runs, label='Mean Basin Radius')\n",
    "plt.xlabel('Run #')\n",
    "plt.ylabel('Radius')\n",
    "plt.title('Basin Radius Over Runs')\n",
    "plt.legend()\n",
    "plt.show()\n",
    "\n",
    "plt.plot(minima_over_runs, label='Estimated Minima')\n",
    "plt.yscale('log')\n",
    "plt.xlabel('Run #')\n",
    "plt.ylabel('Num Minima')\n",
    "plt.title('Estimated Number of Minima Over Runs')\n",
    "plt.legend()\n",
    "plt.show()\n"
   ]
  }
 ],
 "metadata": {
  "kernelspec": {
   "display_name": "Python 3 (ipykernel)",
   "language": "python",
   "name": "python3"
  },
  "language_info": {
   "codemirror_mode": {
    "name": "ipython",
    "version": 3
   },
   "file_extension": ".py",
   "mimetype": "text/x-python",
   "name": "python",
   "nbconvert_exporter": "python",
   "pygments_lexer": "ipython3",
   "version": "3.12.2"
  }
 },
 "nbformat": 4,
 "nbformat_minor": 5
}
